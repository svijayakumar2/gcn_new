{
 "cells": [
  {
   "cell_type": "code",
   "execution_count": 1,
   "metadata": {},
   "outputs": [],
   "source": [
    "import os\n",
    "import sys\n",
    "import json\n",
    "import torch"
   ]
  },
  {
   "cell_type": "code",
   "execution_count": 2,
   "metadata": {},
   "outputs": [],
   "source": [
    "# inspect /bodmas_batches/train/batch_0139.pt \n",
    "\n",
    "file = '/data/saranyav/gcn_new/bodmas_batches_test/train/batch_0139.pt'\n"
   ]
  },
  {
   "cell_type": "code",
   "execution_count": 4,
   "metadata": {},
   "outputs": [
    {
     "name": "stdout",
     "output_type": "stream",
     "text": [
      "Keys in the loaded file (if dictionary):\n",
      "The file contains a list with 59 items.\n",
      "\n",
      "Example content:\n",
      "Data(x=[7366, 14], edge_index=[2, 7795], edge_attr=[3116, 1], num_nodes=7366, sha='7f2d1e70b3dcb0c8e85a8e7c88ef2594c2f371055ba49e0941764c9df9cc798e', timestamp='2019-08-29 09:59:25 UTC', family='autoit', malware_type='trojan')\n"
     ]
    },
    {
     "name": "stderr",
     "output_type": "stream",
     "text": [
      "/tmp/ipykernel_3856677/2074203216.py:7: FutureWarning: You are using `torch.load` with `weights_only=False` (the current default value), which uses the default pickle module implicitly. It is possible to construct malicious pickle data which will execute arbitrary code during unpickling (See https://github.com/pytorch/pytorch/blob/main/SECURITY.md#untrusted-models for more details). In a future release, the default value for `weights_only` will be flipped to `True`. This limits the functions that could be executed during unpickling. Arbitrary objects will no longer be allowed to be loaded via this mode unless they are explicitly allowlisted by the user via `torch.serialization.add_safe_globals`. We recommend you start setting `weights_only=True` for any use case where you don't have full control of the loaded file. Please open an issue on GitHub for any issues related to this experimental feature.\n",
      "  data = torch.load(file_path)\n"
     ]
    }
   ],
   "source": [
    "import torch\n",
    "\n",
    "# Path to the .pt file\n",
    "file_path = \"/data/saranyav/gcn_new/bodmas_batches_test/train/batch_0139.pt\"\n",
    "\n",
    "# Load the .pt file\n",
    "data = torch.load(file_path)\n",
    "\n",
    "# Inspect the contents\n",
    "print(\"Keys in the loaded file (if dictionary):\")\n",
    "if isinstance(data, dict):\n",
    "    for key, value in data.items():\n",
    "        print(f\"Key: {key}, Type: {type(value)}, Shape/Length: {getattr(value, 'shape', len(value) if hasattr(value, '__len__') else 'N/A')}\")\n",
    "elif isinstance(data, list):\n",
    "    print(f\"The file contains a list with {len(data)} items.\")\n",
    "else:\n",
    "    print(f\"Type of data: {type(data)}\")\n",
    "\n",
    "# Optional: Preview specific content\n",
    "print(\"\\nExample content:\")\n",
    "if isinstance(data, dict):\n",
    "    first_key = next(iter(data))\n",
    "    print(f\"First key: {first_key}, Content: {data[first_key]}\")\n",
    "elif isinstance(data, list):\n",
    "    print(data[0])"
   ]
  },
  {
   "cell_type": "code",
   "execution_count": 10,
   "metadata": {},
   "outputs": [
    {
     "name": "stdout",
     "output_type": "stream",
     "text": [
      "No key or attribute with family='none' was found in the data.\n"
     ]
    }
   ],
   "source": [
    "import torch\n",
    "\n",
    "\n",
    "\n",
    "# Function to check for family='none'\n",
    "def check_family_none(data):\n",
    "    if isinstance(data, dict):\n",
    "        for key, value in data.items():\n",
    "            if isinstance(value, dict) or isinstance(value, list):\n",
    "                # Recursively inspect nested dictionaries or lists\n",
    "                result = check_family_none(value)\n",
    "                if result:\n",
    "                    return result\n",
    "            elif hasattr(value, 'family') and getattr(value, 'family', None) == 'none':\n",
    "                return True\n",
    "    elif isinstance(data, list):\n",
    "        for item in data:\n",
    "            if isinstance(item, dict) or isinstance(item, list):\n",
    "                # Recursively inspect nested lists or dictionaries\n",
    "                result = check_family_none(item)\n",
    "                if result:\n",
    "                    return result\n",
    "            elif hasattr(item, 'family') and getattr(item, 'family', None) == 'none':\n",
    "                return True\n",
    "    elif hasattr(data, 'family') and getattr(data, 'family', None) == 'none':\n",
    "        return True\n",
    "    return False\n",
    "\n",
    "# Check for family='none'\n",
    "found = check_family_none(data)\n",
    "if found:\n",
    "    print(\"A key or attribute with family='none' exists in the data.\")\n",
    "else:\n",
    "    print(\"No key or attribute with family='none' was found in the data.\")"
   ]
  },
  {
   "cell_type": "code",
   "execution_count": null,
   "metadata": {},
   "outputs": [],
   "source": [
    "import os\n",
    "import torch\n",
    "\n",
    "# Directory containing the .pt files\n",
    "directory =  \"/data/saranyav/gcn_new/bodmas_batches/train\"\n",
    "\n",
    "\n",
    "# Function to check if family='none' exists in a data object\n",
    "def has_family_none(data):\n",
    "    if isinstance(data, dict):\n",
    "        for key, value in data.items():\n",
    "            if isinstance(value, (dict, list)):\n",
    "                if has_family_none(value):\n",
    "                    return True\n",
    "            elif hasattr(value, 'family') and getattr(value, 'family', None) == 'none':\n",
    "                return True\n",
    "    elif isinstance(data, list):\n",
    "        for item in data:\n",
    "            if isinstance(item, (dict, list)):\n",
    "                if has_family_none(item):\n",
    "                    return True\n",
    "            elif hasattr(item, 'family') and getattr(item, 'family', None) == 'none':\n",
    "                return True\n",
    "    elif hasattr(data, 'family') and getattr(data, 'family', None) == 'none':\n",
    "        return True\n",
    "    return False\n",
    "\n",
    "# Iterate through all .pt files in the directory\n",
    "for root, _, files in os.walk(directory):\n",
    "    for file in files:\n",
    "        if file.endswith(\".pt\"):\n",
    "            file_path = os.path.join(root, file)\n",
    "            try:\n",
    "                # Load the .pt file\n",
    "                data = torch.load(file_path)\n",
    "                # Check for family='none'\n",
    "                if has_family_none(data):\n",
    "                    print(f\"Found family='none' in file: {file_path}\")\n",
    "            except Exception as e:\n",
    "                print(f\"Could not process file {file_path}: {e}\")"
   ]
  }
 ],
 "metadata": {
  "kernelspec": {
   "display_name": "ctf",
   "language": "python",
   "name": "python3"
  },
  "language_info": {
   "codemirror_mode": {
    "name": "ipython",
    "version": 3
   },
   "file_extension": ".py",
   "mimetype": "text/x-python",
   "name": "python",
   "nbconvert_exporter": "python",
   "pygments_lexer": "ipython3",
   "version": "3.11.8"
  }
 },
 "nbformat": 4,
 "nbformat_minor": 2
}
